{
  "cells": [
    {
      "cell_type": "markdown",
      "id": "4575da9a",
      "metadata": {
        "id": "4575da9a"
      },
      "source": [
        "# Input - Output\n",
        "Inputs and outputs are close to the discussion of variables\n",
        "\n",
        "## Variables\n",
        "\n",
        "Variables are containers for storing data values.\n",
        "\n",
        "## Creating Variables\n",
        "\n",
        "Python has no command for declaring a variable.\n",
        "\n",
        "A variable is created the moment you first assign a value to it."
      ]
    },
    {
      "cell_type": "code",
      "execution_count": null,
      "id": "b3a48be5",
      "metadata": {
        "id": "b3a48be5"
      },
      "outputs": [],
      "source": []
    },
    {
      "cell_type": "code",
      "execution_count": null,
      "id": "61b7f4f8",
      "metadata": {
        "id": "61b7f4f8"
      },
      "outputs": [],
      "source": []
    },
    {
      "cell_type": "markdown",
      "id": "3f9db696",
      "metadata": {
        "id": "3f9db696"
      },
      "source": [
        "# Heading 1\n",
        "Python adalah bahasa pemrograman yang menyenangkan untuk dipelajari. Bahasa pemrograman python untuk data scientist berguna memproses :\n",
        "1. Data visualisasi\n",
        "2. Data cleaning\n",
        "3. Modelling Machine Learning\n",
        "\n",
        "- Modelling Machine Learning\n",
        "- Data cleaning\n",
        "- Data visualisasi\n",
        "\n",
        "## Heading 2\n",
        "### Heading 3\n",
        "#### Heading 4\n",
        "##### Heading 5"
      ]
    },
    {
      "cell_type": "code",
      "execution_count": null,
      "id": "312f438d",
      "metadata": {
        "colab": {
          "base_uri": "https://localhost:8080/"
        },
        "id": "312f438d",
        "outputId": "740763d6-c924-4ab8-b4c1-33976e609956"
      },
      "outputs": [
        {
          "output_type": "stream",
          "name": "stdout",
          "text": [
            "temen-temen DS belajar python\n"
          ]
        }
      ],
      "source": [
        "# print value\n",
        "print('temen-temen DS belajar python')"
      ]
    },
    {
      "cell_type": "code",
      "execution_count": null,
      "id": "347ac592",
      "metadata": {
        "colab": {
          "base_uri": "https://localhost:8080/"
        },
        "id": "347ac592",
        "outputId": "2b45fd86-83e6-4bcd-b5b6-a8468250ffb8"
      },
      "outputs": [
        {
          "output_type": "stream",
          "name": "stdout",
          "text": [
            "5\n",
            "Bootcamp Data Scientist\n"
          ]
        }
      ],
      "source": [
        "x = 5\n",
        "y = \"Bootcamp Data Scientist\"\n",
        "\n",
        "\n",
        "# x and y are variable\n",
        "\n",
        "print(x) # print output value x\n",
        "print(y) # print output value y"
      ]
    },
    {
      "cell_type": "markdown",
      "id": "563fe28a",
      "metadata": {
        "id": "563fe28a"
      },
      "source": [
        "Variables do not need to be declared with any particular type, and can even change type after they have been set."
      ]
    },
    {
      "cell_type": "code",
      "execution_count": null,
      "id": "a51f062c",
      "metadata": {
        "colab": {
          "base_uri": "https://localhost:8080/"
        },
        "id": "a51f062c",
        "outputId": "846ebb9f-79a0-426a-a551-9cb4fc2584e9"
      },
      "outputs": [
        {
          "output_type": "stream",
          "name": "stdout",
          "text": [
            "3.8\n"
          ]
        }
      ],
      "source": [
        "x = 4     # x is of type int\n",
        "x = \"Sally\" # x is now of type str\n",
        "x = 3.8\n",
        "print(x)"
      ]
    },
    {
      "cell_type": "code",
      "execution_count": null,
      "id": "d1750695",
      "metadata": {
        "id": "d1750695",
        "colab": {
          "base_uri": "https://localhost:8080/"
        },
        "outputId": "79ba4d5e-0e8a-44ed-a6f7-29dd093b0035"
      },
      "outputs": [
        {
          "output_type": "stream",
          "name": "stdout",
          "text": [
            "4\n",
            "Sally\n"
          ]
        }
      ],
      "source": [
        "x = 4     # x is of type int\n",
        "print(x)\n",
        "x = \"Sally\" # x is now of type str\n",
        "print(x)"
      ]
    },
    {
      "cell_type": "markdown",
      "id": "a11be9d8",
      "metadata": {
        "id": "a11be9d8"
      },
      "source": [
        "## Casting\n",
        "\n",
        "If you want to specify the data type of a variable, this can be done with casting."
      ]
    },
    {
      "cell_type": "code",
      "execution_count": null,
      "id": "6a2363c1",
      "metadata": {
        "colab": {
          "base_uri": "https://localhost:8080/"
        },
        "id": "6a2363c1",
        "outputId": "089eab83-37f7-4d84-cf45-9cf57804f2b3"
      },
      "outputs": [
        {
          "output_type": "stream",
          "name": "stdout",
          "text": [
            "3\n",
            "3\n",
            "3.0\n"
          ]
        }
      ],
      "source": [
        "x = str(3)    # x will be '3'\n",
        "y = int(3)    # y will be 3\n",
        "z = float(3)  # z will be 3.0\n",
        "\n",
        "print(x)\n",
        "print(y)\n",
        "print(z)"
      ]
    },
    {
      "cell_type": "code",
      "execution_count": null,
      "id": "e59f9215",
      "metadata": {
        "id": "e59f9215",
        "outputId": "f5451f7a-bc93-4ce0-a530-48b1a99ef234",
        "colab": {
          "base_uri": "https://localhost:8080/",
          "height": 35
        }
      },
      "outputs": [
        {
          "output_type": "execute_result",
          "data": {
            "text/plain": [
              "'3'"
            ],
            "application/vnd.google.colaboratory.intrinsic+json": {
              "type": "string"
            }
          },
          "metadata": {},
          "execution_count": 34
        }
      ],
      "source": [
        "x"
      ]
    },
    {
      "cell_type": "code",
      "source": [
        "y"
      ],
      "metadata": {
        "id": "RkQHLD-rqoXX",
        "outputId": "87f878c7-77a5-4f47-f14c-a123276c7840",
        "colab": {
          "base_uri": "https://localhost:8080/"
        }
      },
      "id": "RkQHLD-rqoXX",
      "execution_count": null,
      "outputs": [
        {
          "output_type": "execute_result",
          "data": {
            "text/plain": [
              "3"
            ]
          },
          "metadata": {},
          "execution_count": 35
        }
      ]
    },
    {
      "cell_type": "code",
      "source": [],
      "metadata": {
        "id": "z5ZbbCkJqpnj"
      },
      "id": "z5ZbbCkJqpnj",
      "execution_count": null,
      "outputs": []
    },
    {
      "cell_type": "markdown",
      "id": "4f38d839",
      "metadata": {
        "id": "4f38d839"
      },
      "source": [
        "## Get the Type\n",
        "\n",
        "You can get the data type of a variable with the type() function."
      ]
    },
    {
      "cell_type": "code",
      "execution_count": null,
      "id": "cab5fcf6",
      "metadata": {
        "colab": {
          "base_uri": "https://localhost:8080/"
        },
        "id": "cab5fcf6",
        "outputId": "18ea7320-1abf-4b88-f10f-fa9b8a92d2d6"
      },
      "outputs": [
        {
          "output_type": "stream",
          "name": "stdout",
          "text": [
            "<class 'int'>\n",
            "<class 'str'>\n",
            "<class 'float'>\n"
          ]
        }
      ],
      "source": [
        "# assign x and y with check value type\n",
        "x = 5\n",
        "y = \"John\"\n",
        "z = 3.5\n",
        "print(type(x))\n",
        "print(type(y))\n",
        "print(type(z))"
      ]
    },
    {
      "cell_type": "code",
      "execution_count": null,
      "id": "9020cef0",
      "metadata": {
        "id": "9020cef0",
        "outputId": "1b3569b5-1324-4e02-c380-5194fd2764e9"
      },
      "outputs": [
        {
          "data": {
            "text/plain": [
              "int"
            ]
          },
          "execution_count": 35,
          "metadata": {},
          "output_type": "execute_result"
        }
      ],
      "source": [
        "type(x)"
      ]
    },
    {
      "cell_type": "markdown",
      "id": "79712e08",
      "metadata": {
        "id": "79712e08"
      },
      "source": [
        "Complete explanation about Data Type : https://www.w3schools.com/python/python_datatypes.asp"
      ]
    },
    {
      "cell_type": "markdown",
      "id": "bf5a0f6b",
      "metadata": {
        "id": "bf5a0f6b"
      },
      "source": [
        "## Single or Double Quotes?\n",
        "\n",
        "String variables can be declared either by using single or double quotes:"
      ]
    },
    {
      "cell_type": "code",
      "execution_count": null,
      "id": "13eac326",
      "metadata": {
        "colab": {
          "base_uri": "https://localhost:8080/"
        },
        "id": "13eac326",
        "outputId": "b53fb20f-5182-4777-b7d9-bd289d2277f5"
      },
      "outputs": [
        {
          "output_type": "stream",
          "name": "stdout",
          "text": [
            "John\n",
            "John\n"
          ]
        }
      ],
      "source": [
        "x = \"John\"\n",
        "print(x)\n",
        "\n",
        "#double quotes are the same as single quotes:\n",
        "\n",
        "x = 'John'\n",
        "print(x)"
      ]
    },
    {
      "cell_type": "code",
      "execution_count": null,
      "id": "4f4abde1",
      "metadata": {
        "colab": {
          "base_uri": "https://localhost:8080/",
          "height": 35
        },
        "id": "4f4abde1",
        "outputId": "d4d24a2e-0450-47b4-f414-12e9e92e1a4c"
      },
      "outputs": [
        {
          "output_type": "execute_result",
          "data": {
            "text/plain": [
              "\"Ra'if\""
            ],
            "application/vnd.google.colaboratory.intrinsic+json": {
              "type": "string"
            }
          },
          "metadata": {},
          "execution_count": 7
        }
      ],
      "source": [
        "a = \"Ra'if\"\n",
        "a"
      ]
    },
    {
      "cell_type": "code",
      "execution_count": null,
      "id": "e02d45d4",
      "metadata": {
        "colab": {
          "base_uri": "https://localhost:8080/",
          "height": 35
        },
        "id": "e02d45d4",
        "outputId": "6180b711-e967-4030-8acc-0f5578a0b369"
      },
      "outputs": [
        {
          "output_type": "execute_result",
          "data": {
            "text/plain": [
              "'\\nhari ini pertemuan belajar python\\n'"
            ],
            "application/vnd.google.colaboratory.intrinsic+json": {
              "type": "string"
            }
          },
          "metadata": {},
          "execution_count": 8
        }
      ],
      "source": [
        "kalimat = '''\n",
        "hari ini pertemuan belajar python\n",
        "'''\n",
        "kalimat"
      ]
    },
    {
      "cell_type": "code",
      "execution_count": null,
      "id": "4d964701",
      "metadata": {
        "colab": {
          "base_uri": "https://localhost:8080/",
          "height": 35
        },
        "id": "4d964701",
        "outputId": "45c2a02b-2dbd-42bb-be23-9609a2fbb369"
      },
      "outputs": [
        {
          "output_type": "execute_result",
          "data": {
            "text/plain": [
              "'\\nhari ini pertemuan belajar python\\n'"
            ],
            "application/vnd.google.colaboratory.intrinsic+json": {
              "type": "string"
            }
          },
          "metadata": {},
          "execution_count": 9
        }
      ],
      "source": [
        "kalimat = \"\"\"\n",
        "hari ini pertemuan belajar python\n",
        "\"\"\"\n",
        "kalimat"
      ]
    },
    {
      "cell_type": "markdown",
      "id": "e2f98bc9",
      "metadata": {
        "id": "e2f98bc9"
      },
      "source": [
        "## Case-Sensitive\n",
        "\n",
        "Variable names are case-sensitive."
      ]
    },
    {
      "cell_type": "code",
      "execution_count": null,
      "id": "4763f8c0",
      "metadata": {
        "colab": {
          "base_uri": "https://localhost:8080/"
        },
        "id": "4763f8c0",
        "outputId": "5d3ee446-2418-4645-f399-1062dfa8d6d6"
      },
      "outputs": [
        {
          "output_type": "stream",
          "name": "stdout",
          "text": [
            "4\n",
            "Sally\n"
          ]
        }
      ],
      "source": [
        "# case sensitive\n",
        "a = 4\n",
        "A = \"Sally\"\n",
        "\n",
        "print(a)\n",
        "print(A)"
      ]
    },
    {
      "cell_type": "code",
      "execution_count": null,
      "id": "bdb26b3f",
      "metadata": {
        "colab": {
          "base_uri": "https://localhost:8080/"
        },
        "id": "bdb26b3f",
        "outputId": "67d4b0b8-cd3c-4768-e841-f2d21d74a235"
      },
      "outputs": [
        {
          "output_type": "stream",
          "name": "stdout",
          "text": [
            "False\n"
          ]
        }
      ],
      "source": [
        "# case sensitive\n",
        "b = 'Sally'\n",
        "B = 'sally'\n",
        "print(b==B)"
      ]
    },
    {
      "cell_type": "markdown",
      "id": "bfbd7f52",
      "metadata": {
        "id": "bfbd7f52"
      },
      "source": [
        "## Legal Variabel name"
      ]
    },
    {
      "cell_type": "code",
      "execution_count": null,
      "id": "44a4ff9f",
      "metadata": {
        "colab": {
          "base_uri": "https://localhost:8080/"
        },
        "id": "44a4ff9f",
        "outputId": "e80775f1-15c6-4a6f-e408-94816660a04a"
      },
      "outputs": [
        {
          "output_type": "stream",
          "name": "stdout",
          "text": [
            "dibimbing\n",
            "dibimbing\n",
            "dibimbing\n",
            "dibimbing\n",
            "dibimbing\n",
            "dibimbing\n",
            "dibimbing\n"
          ]
        }
      ],
      "source": [
        "myvar = \"dibimbing\" # huruf kecil semua\n",
        "my_var = \"dibimbing\" # setiap kata dipisahkan underscore character\n",
        "_my_var = \"dibimbing\" # tipe snake case, dipisahkan oleh underscore\n",
        "myVar = \"dibimbing\" # Camel Case : huruf pertama kecil, kata berikutnya memiliki huruf awalannya besar\n",
        "MYVAR = \"dibimbing\" # Huruf besar semua\n",
        "myvar2 = \"dibimbing\" # huruf kecil + angka\n",
        "MYVAR2 = \"dibimbing\" # Huruf besar semua\n",
        "\n",
        "print(myvar)\n",
        "print(my_var)\n",
        "print(_my_var)\n",
        "print(myVar)\n",
        "print(MYVAR)\n",
        "print(myvar2)\n",
        "print(MYVAR2)"
      ]
    },
    {
      "cell_type": "markdown",
      "id": "41569573",
      "metadata": {
        "id": "41569573"
      },
      "source": [
        "## Illegal Variabel Name"
      ]
    },
    {
      "cell_type": "code",
      "execution_count": null,
      "id": "bd190c60",
      "metadata": {
        "colab": {
          "base_uri": "https://localhost:8080/",
          "height": 106
        },
        "id": "bd190c60",
        "outputId": "fed11078-6246-46e7-f992-70a022d16961"
      },
      "outputs": [
        {
          "output_type": "error",
          "ename": "SyntaxError",
          "evalue": "invalid decimal literal (<ipython-input-13-52a9ebc65a1f>, line 1)",
          "traceback": [
            "\u001b[0;36m  File \u001b[0;32m\"<ipython-input-13-52a9ebc65a1f>\"\u001b[0;36m, line \u001b[0;32m1\u001b[0m\n\u001b[0;31m    2myvar = \"John\"\u001b[0m\n\u001b[0m    ^\u001b[0m\n\u001b[0;31mSyntaxError\u001b[0m\u001b[0;31m:\u001b[0m invalid decimal literal\n"
          ]
        }
      ],
      "source": [
        "2myvar = \"John\"\n",
        "\n",
        "#This example will produce an error in the result"
      ]
    },
    {
      "cell_type": "code",
      "execution_count": null,
      "id": "4c030272",
      "metadata": {
        "id": "4c030272",
        "outputId": "86e60415-8502-4c6d-e3b5-6316f05e0f21"
      },
      "outputs": [
        {
          "ename": "SyntaxError",
          "evalue": "cannot assign to expression here. Maybe you meant '==' instead of '='? (3947910070.py, line 1)",
          "output_type": "error",
          "traceback": [
            "\u001b[1;36m  Cell \u001b[1;32mIn[15], line 1\u001b[1;36m\u001b[0m\n\u001b[1;33m    my+var = \"John\"\u001b[0m\n\u001b[1;37m    ^\u001b[0m\n\u001b[1;31mSyntaxError\u001b[0m\u001b[1;31m:\u001b[0m cannot assign to expression here. Maybe you meant '==' instead of '='?\n"
          ]
        }
      ],
      "source": [
        "my+var = \"John\"\n",
        "\n",
        "#This example will produce an error in the result"
      ]
    },
    {
      "cell_type": "code",
      "execution_count": null,
      "id": "0de4defe",
      "metadata": {
        "colab": {
          "base_uri": "https://localhost:8080/",
          "height": 106
        },
        "id": "0de4defe",
        "outputId": "217be143-6fee-4e50-cea1-4a8a6828e666"
      },
      "outputs": [
        {
          "output_type": "error",
          "ename": "SyntaxError",
          "evalue": "invalid syntax (<ipython-input-14-fa67a73f3c43>, line 1)",
          "traceback": [
            "\u001b[0;36m  File \u001b[0;32m\"<ipython-input-14-fa67a73f3c43>\"\u001b[0;36m, line \u001b[0;32m1\u001b[0m\n\u001b[0;31m    my var = \"John\"\u001b[0m\n\u001b[0m       ^\u001b[0m\n\u001b[0;31mSyntaxError\u001b[0m\u001b[0;31m:\u001b[0m invalid syntax\n"
          ]
        }
      ],
      "source": [
        "my var = \"John\"\n",
        "\n",
        "#This example will produce an error in the result"
      ]
    },
    {
      "cell_type": "markdown",
      "id": "164e6a80",
      "metadata": {
        "id": "164e6a80"
      },
      "source": [
        "## Ouput Variables\n",
        "The Python print() function is often used to output variables."
      ]
    },
    {
      "cell_type": "markdown",
      "id": "a0898a99",
      "metadata": {
        "id": "a0898a99"
      },
      "source": [
        "Notice the space character after \"Python \" and \"is \", without them the result would be \"Pythonisawesome\"."
      ]
    },
    {
      "cell_type": "code",
      "execution_count": null,
      "id": "8e966d7d",
      "metadata": {
        "colab": {
          "base_uri": "https://localhost:8080/"
        },
        "id": "8e966d7d",
        "outputId": "10cfe00e-fa6d-4af5-f390-c33c76e1ed3e"
      },
      "outputs": [
        {
          "output_type": "stream",
          "name": "stdout",
          "text": [
            "15\n"
          ]
        }
      ],
      "source": [
        "# sum\n",
        "x = 5\n",
        "y = 10\n",
        "print(x + y)"
      ]
    },
    {
      "cell_type": "code",
      "execution_count": null,
      "id": "aad93a2b",
      "metadata": {
        "colab": {
          "base_uri": "https://localhost:8080/",
          "height": 176
        },
        "id": "aad93a2b",
        "outputId": "1f772f6b-5e5f-4362-bacd-61cd507eb713"
      },
      "outputs": [
        {
          "output_type": "error",
          "ename": "TypeError",
          "evalue": "unsupported operand type(s) for +: 'int' and 'str'",
          "traceback": [
            "\u001b[0;31m---------------------------------------------------------------------------\u001b[0m",
            "\u001b[0;31mTypeError\u001b[0m                                 Traceback (most recent call last)",
            "\u001b[0;32m<ipython-input-16-ee1d5d129f45>\u001b[0m in \u001b[0;36m<cell line: 0>\u001b[0;34m()\u001b[0m\n\u001b[1;32m      2\u001b[0m \u001b[0mx\u001b[0m \u001b[0;34m=\u001b[0m \u001b[0;36m5\u001b[0m\u001b[0;34m\u001b[0m\u001b[0;34m\u001b[0m\u001b[0m\n\u001b[1;32m      3\u001b[0m \u001b[0my\u001b[0m \u001b[0;34m=\u001b[0m \u001b[0;34m\"John\"\u001b[0m\u001b[0;34m\u001b[0m\u001b[0;34m\u001b[0m\u001b[0m\n\u001b[0;32m----> 4\u001b[0;31m \u001b[0mprint\u001b[0m\u001b[0;34m(\u001b[0m\u001b[0mx\u001b[0m \u001b[0;34m+\u001b[0m \u001b[0my\u001b[0m\u001b[0;34m)\u001b[0m\u001b[0;34m\u001b[0m\u001b[0;34m\u001b[0m\u001b[0m\n\u001b[0m",
            "\u001b[0;31mTypeError\u001b[0m: unsupported operand type(s) for +: 'int' and 'str'"
          ]
        }
      ],
      "source": [
        "# cannot sum numeric + string\n",
        "x = 5\n",
        "y = \"John\"\n",
        "print(x + y)"
      ]
    },
    {
      "cell_type": "markdown",
      "id": "6710ad46",
      "metadata": {
        "id": "6710ad46"
      },
      "source": [
        "The best way to output multiple variables in the print() function is to separate them with commas, which even support different data types:"
      ]
    },
    {
      "cell_type": "markdown",
      "id": "f4617870",
      "metadata": {
        "id": "f4617870"
      },
      "source": [
        "## Python Conditions and If statements\n",
        "\n",
        "### Python supports the usual logical conditions from mathematics:\n",
        "\n",
        " -   Equals: a == b\n",
        " -   Not Equals: a != b\n",
        " -   Less than: a < b\n",
        " -   Less than or equal to: a <= b\n",
        " -   Greater than: a > b\n",
        " -   Greater than or equal to: a >= b\n",
        "\n",
        "These conditions can be used in several ways, most commonly in \"if statements\" and loops.\n",
        "\n",
        "An \"if statement\" is written by using the if keyword.\n",
        "\n",
        "## If"
      ]
    },
    {
      "cell_type": "code",
      "execution_count": null,
      "id": "046431fd",
      "metadata": {
        "id": "046431fd"
      },
      "outputs": [],
      "source": [
        "a = 20\n",
        "b = 10\n",
        "if b > a:\n",
        "    print(\"b is greater than a\")\n",
        "\n",
        "# if condition"
      ]
    },
    {
      "cell_type": "code",
      "execution_count": null,
      "id": "9ae64683",
      "metadata": {
        "colab": {
          "base_uri": "https://localhost:8080/",
          "height": 106
        },
        "id": "9ae64683",
        "outputId": "bfbc7bc9-1fcf-4124-8c02-3639f188c342"
      },
      "outputs": [
        {
          "output_type": "error",
          "ename": "IndentationError",
          "evalue": "expected an indented block after 'if' statement on line 3 (<ipython-input-18-6ddfbd8adca9>, line 4)",
          "traceback": [
            "\u001b[0;36m  File \u001b[0;32m\"<ipython-input-18-6ddfbd8adca9>\"\u001b[0;36m, line \u001b[0;32m4\u001b[0m\n\u001b[0;31m    print(\"b is greater than a\") # you will get an error ( tidak ada indentasi )\u001b[0m\n\u001b[0m    ^\u001b[0m\n\u001b[0;31mIndentationError\u001b[0m\u001b[0;31m:\u001b[0m expected an indented block after 'if' statement on line 3\n"
          ]
        }
      ],
      "source": [
        "a = 33\n",
        "b = 200\n",
        "if b > a:\n",
        "print(\"b is greater than a\") # you will get an error ( tidak ada indentasi )"
      ]
    },
    {
      "cell_type": "markdown",
      "id": "1f575903",
      "metadata": {
        "id": "1f575903"
      },
      "source": [
        "## Elif\n",
        "\n",
        "The elif keyword is Python's way of saying \"if the previous conditions were not true, then try this condition\"."
      ]
    },
    {
      "cell_type": "code",
      "execution_count": null,
      "id": "e8a13596",
      "metadata": {
        "colab": {
          "base_uri": "https://localhost:8080/"
        },
        "id": "e8a13596",
        "outputId": "2c46027c-d32e-4bd5-afd1-ab4736239163"
      },
      "outputs": [
        {
          "output_type": "stream",
          "name": "stdout",
          "text": [
            "b is greater than a\n"
          ]
        }
      ],
      "source": [
        "# if and elif\n",
        "a = 33\n",
        "b = 40\n",
        "if b > a:\n",
        "    print(\"b is greater than a\")\n",
        "elif a == b:\n",
        "    print(\"a and b are equal\")"
      ]
    },
    {
      "cell_type": "markdown",
      "id": "1782ecaa",
      "metadata": {
        "id": "1782ecaa"
      },
      "source": [
        "In this example a is equal to b, so the first condition is not true, but the elif condition is true, so we print to screen that \"a and b are equal\"."
      ]
    },
    {
      "cell_type": "markdown",
      "id": "45afb84c",
      "metadata": {
        "id": "45afb84c"
      },
      "source": [
        "## Else\n",
        "\n",
        "The else keyword catches anything which isn't caught by the preceding conditions."
      ]
    },
    {
      "cell_type": "code",
      "execution_count": null,
      "id": "718df852",
      "metadata": {
        "colab": {
          "base_uri": "https://localhost:8080/"
        },
        "id": "718df852",
        "outputId": "b2b8432e-b76c-4322-a88f-085d4eb431b8"
      },
      "outputs": [
        {
          "output_type": "stream",
          "name": "stdout",
          "text": [
            "unknown value\n"
          ]
        }
      ],
      "source": [
        "# if and elif and else\n",
        "\n",
        "a = 200\n",
        "b = 33\n",
        "if b > a:\n",
        "    print(\"b is greater than a\")\n",
        "elif a == b:\n",
        "    print(\"a and b are equal\")\n",
        "elif a<b:\n",
        "    print(\"a less than b\")\n",
        "else:\n",
        "    print('unknown value')"
      ]
    },
    {
      "cell_type": "markdown",
      "id": "e8212e74",
      "metadata": {
        "id": "e8212e74"
      },
      "source": [
        "In this example a is greater than b, so the first condition is not true, also the elif condition is not true, so we go to the else condition and print to screen that \"a is greater than b\".\n",
        "You can also have an else without the elif:"
      ]
    },
    {
      "cell_type": "code",
      "execution_count": null,
      "id": "27380469",
      "metadata": {
        "colab": {
          "base_uri": "https://localhost:8080/"
        },
        "id": "27380469",
        "outputId": "923f5d8d-4179-43d8-d9a6-770246a2c639"
      },
      "outputs": [
        {
          "output_type": "stream",
          "name": "stdout",
          "text": [
            "b is not greater than a\n"
          ]
        }
      ],
      "source": [
        "# if and else\n",
        "\n",
        "a = 200\n",
        "b = 33\n",
        "if b > a:\n",
        "    print(\"b is greater than a\")\n",
        "else:\n",
        "    print(\"b is not greater than a\")"
      ]
    },
    {
      "cell_type": "markdown",
      "id": "3f4cb269",
      "metadata": {
        "id": "3f4cb269"
      },
      "source": [
        "## And\n",
        "\n",
        "The and keyword is a logical operator, and is used to combine conditional statements:"
      ]
    },
    {
      "cell_type": "code",
      "execution_count": null,
      "id": "11524c82",
      "metadata": {
        "colab": {
          "base_uri": "https://localhost:8080/"
        },
        "id": "11524c82",
        "outputId": "8daa8282-0b66-4a1a-c343-102278aeec10"
      },
      "outputs": [
        {
          "output_type": "stream",
          "name": "stdout",
          "text": [
            "there are no condition\n"
          ]
        }
      ],
      "source": [
        "# and condition\n",
        "a = 5\n",
        "b = 3\n",
        "c = 8\n",
        "if a > b and c > a and a == b:\n",
        "    print(\"Both conditions are True\")\n",
        "else:\n",
        "    print('there are no condition')"
      ]
    },
    {
      "cell_type": "markdown",
      "id": "ba26e6ce",
      "metadata": {
        "id": "ba26e6ce"
      },
      "source": [
        "## Or\n",
        "\n",
        "The or keyword is a logical operator, and is used to combine conditional statements:"
      ]
    },
    {
      "cell_type": "code",
      "execution_count": null,
      "id": "f58ad65b",
      "metadata": {
        "colab": {
          "base_uri": "https://localhost:8080/"
        },
        "id": "f58ad65b",
        "outputId": "aa9a67d8-cad4-43c9-deb7-45a4d52d90a9"
      },
      "outputs": [
        {
          "output_type": "stream",
          "name": "stdout",
          "text": [
            "At least one of the conditions is True\n"
          ]
        }
      ],
      "source": [
        "# if and or condition\n",
        "a = 200\n",
        "b = 33\n",
        "c = 500\n",
        "if a > b or a > c and b == c:\n",
        "    print(\"At least one of the conditions is True\")"
      ]
    },
    {
      "cell_type": "markdown",
      "id": "8e049938",
      "metadata": {
        "id": "8e049938"
      },
      "source": [
        "## Not\n",
        "\n",
        "The not keyword is a logical operator, and is used to reverse the result of the conditional statement:"
      ]
    },
    {
      "cell_type": "code",
      "execution_count": null,
      "id": "215d088b",
      "metadata": {
        "colab": {
          "base_uri": "https://localhost:8080/"
        },
        "id": "215d088b",
        "outputId": "6fc1f466-3779-41e4-dfd2-d182b568eb6c"
      },
      "outputs": [
        {
          "output_type": "stream",
          "name": "stdout",
          "text": [
            "a is NOT greater than b\n"
          ]
        }
      ],
      "source": [
        "# not condition\n",
        "a = 33\n",
        "b = 200\n",
        "if a != b:\n",
        "    print(\"a is NOT greater than b\")"
      ]
    },
    {
      "cell_type": "markdown",
      "id": "6524b515",
      "metadata": {
        "id": "6524b515"
      },
      "source": [
        "# Thank you :)"
      ]
    }
  ],
  "metadata": {
    "kernelspec": {
      "display_name": "Python 3 (ipykernel)",
      "language": "python",
      "name": "python3"
    },
    "language_info": {
      "codemirror_mode": {
        "name": "ipython",
        "version": 3
      },
      "file_extension": ".py",
      "mimetype": "text/x-python",
      "name": "python",
      "nbconvert_exporter": "python",
      "pygments_lexer": "ipython3",
      "version": "3.11.4"
    },
    "colab": {
      "provenance": []
    }
  },
  "nbformat": 4,
  "nbformat_minor": 5
}