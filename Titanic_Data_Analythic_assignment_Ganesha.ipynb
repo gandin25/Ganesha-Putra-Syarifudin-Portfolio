{
  "cells": [
    {
      "cell_type": "markdown",
      "source": [
        "Investigate the following titanic data samples in the following ways:\n",
        "\n",
        "1. Check by head, tail, sample, info and then what observations can you get?\n",
        "\n",
        "2. Do a Statistical Summary by extracting information obtained from your observations?\n",
        "\n",
        "3. Check if there are duplicates and how to handle them?\n",
        "\n",
        "4. Check if there is a missing value, what percentage if any, and how to handle it?"
      ],
      "metadata": {
        "id": "hkqy9Q4vKVyW"
      },
      "id": "hkqy9Q4vKVyW"
    },
    {
      "cell_type": "code",
      "execution_count": 5,
      "id": "d81cf831",
      "metadata": {
        "id": "d81cf831"
      },
      "outputs": [],
      "source": [
        "import numpy as np\n",
        "import pandas as pd\n",
        "import seaborn as sns\n",
        "import matplotlib.pyplot as plt\n",
        "pd.set_option(\"display.max_columns\", None)\n",
        "pd.set_option(\"display.max_rows\", None)"
      ]
    },
    {
      "cell_type": "code",
      "execution_count": 6,
      "id": "1f195200",
      "metadata": {
        "id": "1f195200",
        "outputId": "63a4bd10-382d-49c4-d94f-8d0305789eaa",
        "colab": {
          "base_uri": "https://localhost:8080/",
          "height": 206
        }
      },
      "outputs": [
        {
          "output_type": "execute_result",
          "data": {
            "text/plain": [
              "   survived                                             name     sex      age\n",
              "0         1                    Allen, Miss. Elisabeth Walton  female  29.0000\n",
              "1         1                   Allison, Master. Hudson Trevor    male   0.9167\n",
              "2         0                     Allison, Miss. Helen Loraine  female   2.0000\n",
              "3         0             Allison, Mr. Hudson Joshua Creighton    male  30.0000\n",
              "4         0  Allison, Mrs. Hudson J C (Bessie Waldo Daniels)  female  25.0000"
            ],
            "text/html": [
              "\n",
              "  <div id=\"df-a6efb3ad-c198-45ad-aac7-a6a1515b672c\" class=\"colab-df-container\">\n",
              "    <div>\n",
              "<style scoped>\n",
              "    .dataframe tbody tr th:only-of-type {\n",
              "        vertical-align: middle;\n",
              "    }\n",
              "\n",
              "    .dataframe tbody tr th {\n",
              "        vertical-align: top;\n",
              "    }\n",
              "\n",
              "    .dataframe thead th {\n",
              "        text-align: right;\n",
              "    }\n",
              "</style>\n",
              "<table border=\"1\" class=\"dataframe\">\n",
              "  <thead>\n",
              "    <tr style=\"text-align: right;\">\n",
              "      <th></th>\n",
              "      <th>survived</th>\n",
              "      <th>name</th>\n",
              "      <th>sex</th>\n",
              "      <th>age</th>\n",
              "    </tr>\n",
              "  </thead>\n",
              "  <tbody>\n",
              "    <tr>\n",
              "      <th>0</th>\n",
              "      <td>1</td>\n",
              "      <td>Allen, Miss. Elisabeth Walton</td>\n",
              "      <td>female</td>\n",
              "      <td>29.0000</td>\n",
              "    </tr>\n",
              "    <tr>\n",
              "      <th>1</th>\n",
              "      <td>1</td>\n",
              "      <td>Allison, Master. Hudson Trevor</td>\n",
              "      <td>male</td>\n",
              "      <td>0.9167</td>\n",
              "    </tr>\n",
              "    <tr>\n",
              "      <th>2</th>\n",
              "      <td>0</td>\n",
              "      <td>Allison, Miss. Helen Loraine</td>\n",
              "      <td>female</td>\n",
              "      <td>2.0000</td>\n",
              "    </tr>\n",
              "    <tr>\n",
              "      <th>3</th>\n",
              "      <td>0</td>\n",
              "      <td>Allison, Mr. Hudson Joshua Creighton</td>\n",
              "      <td>male</td>\n",
              "      <td>30.0000</td>\n",
              "    </tr>\n",
              "    <tr>\n",
              "      <th>4</th>\n",
              "      <td>0</td>\n",
              "      <td>Allison, Mrs. Hudson J C (Bessie Waldo Daniels)</td>\n",
              "      <td>female</td>\n",
              "      <td>25.0000</td>\n",
              "    </tr>\n",
              "  </tbody>\n",
              "</table>\n",
              "</div>\n",
              "    <div class=\"colab-df-buttons\">\n",
              "\n",
              "  <div class=\"colab-df-container\">\n",
              "    <button class=\"colab-df-convert\" onclick=\"convertToInteractive('df-a6efb3ad-c198-45ad-aac7-a6a1515b672c')\"\n",
              "            title=\"Convert this dataframe to an interactive table.\"\n",
              "            style=\"display:none;\">\n",
              "\n",
              "  <svg xmlns=\"http://www.w3.org/2000/svg\" height=\"24px\" viewBox=\"0 -960 960 960\">\n",
              "    <path d=\"M120-120v-720h720v720H120Zm60-500h600v-160H180v160Zm220 220h160v-160H400v160Zm0 220h160v-160H400v160ZM180-400h160v-160H180v160Zm440 0h160v-160H620v160ZM180-180h160v-160H180v160Zm440 0h160v-160H620v160Z\"/>\n",
              "  </svg>\n",
              "    </button>\n",
              "\n",
              "  <style>\n",
              "    .colab-df-container {\n",
              "      display:flex;\n",
              "      gap: 12px;\n",
              "    }\n",
              "\n",
              "    .colab-df-convert {\n",
              "      background-color: #E8F0FE;\n",
              "      border: none;\n",
              "      border-radius: 50%;\n",
              "      cursor: pointer;\n",
              "      display: none;\n",
              "      fill: #1967D2;\n",
              "      height: 32px;\n",
              "      padding: 0 0 0 0;\n",
              "      width: 32px;\n",
              "    }\n",
              "\n",
              "    .colab-df-convert:hover {\n",
              "      background-color: #E2EBFA;\n",
              "      box-shadow: 0px 1px 2px rgba(60, 64, 67, 0.3), 0px 1px 3px 1px rgba(60, 64, 67, 0.15);\n",
              "      fill: #174EA6;\n",
              "    }\n",
              "\n",
              "    .colab-df-buttons div {\n",
              "      margin-bottom: 4px;\n",
              "    }\n",
              "\n",
              "    [theme=dark] .colab-df-convert {\n",
              "      background-color: #3B4455;\n",
              "      fill: #D2E3FC;\n",
              "    }\n",
              "\n",
              "    [theme=dark] .colab-df-convert:hover {\n",
              "      background-color: #434B5C;\n",
              "      box-shadow: 0px 1px 3px 1px rgba(0, 0, 0, 0.15);\n",
              "      filter: drop-shadow(0px 1px 2px rgba(0, 0, 0, 0.3));\n",
              "      fill: #FFFFFF;\n",
              "    }\n",
              "  </style>\n",
              "\n",
              "    <script>\n",
              "      const buttonEl =\n",
              "        document.querySelector('#df-a6efb3ad-c198-45ad-aac7-a6a1515b672c button.colab-df-convert');\n",
              "      buttonEl.style.display =\n",
              "        google.colab.kernel.accessAllowed ? 'block' : 'none';\n",
              "\n",
              "      async function convertToInteractive(key) {\n",
              "        const element = document.querySelector('#df-a6efb3ad-c198-45ad-aac7-a6a1515b672c');\n",
              "        const dataTable =\n",
              "          await google.colab.kernel.invokeFunction('convertToInteractive',\n",
              "                                                    [key], {});\n",
              "        if (!dataTable) return;\n",
              "\n",
              "        const docLinkHtml = 'Like what you see? Visit the ' +\n",
              "          '<a target=\"_blank\" href=https://colab.research.google.com/notebooks/data_table.ipynb>data table notebook</a>'\n",
              "          + ' to learn more about interactive tables.';\n",
              "        element.innerHTML = '';\n",
              "        dataTable['output_type'] = 'display_data';\n",
              "        await google.colab.output.renderOutput(dataTable, element);\n",
              "        const docLink = document.createElement('div');\n",
              "        docLink.innerHTML = docLinkHtml;\n",
              "        element.appendChild(docLink);\n",
              "      }\n",
              "    </script>\n",
              "  </div>\n",
              "\n",
              "\n",
              "<div id=\"df-68c7f764-ac68-4dc7-af9c-667a552083f2\">\n",
              "  <button class=\"colab-df-quickchart\" onclick=\"quickchart('df-68c7f764-ac68-4dc7-af9c-667a552083f2')\"\n",
              "            title=\"Suggest charts\"\n",
              "            style=\"display:none;\">\n",
              "\n",
              "<svg xmlns=\"http://www.w3.org/2000/svg\" height=\"24px\"viewBox=\"0 0 24 24\"\n",
              "     width=\"24px\">\n",
              "    <g>\n",
              "        <path d=\"M19 3H5c-1.1 0-2 .9-2 2v14c0 1.1.9 2 2 2h14c1.1 0 2-.9 2-2V5c0-1.1-.9-2-2-2zM9 17H7v-7h2v7zm4 0h-2V7h2v10zm4 0h-2v-4h2v4z\"/>\n",
              "    </g>\n",
              "</svg>\n",
              "  </button>\n",
              "\n",
              "<style>\n",
              "  .colab-df-quickchart {\n",
              "      --bg-color: #E8F0FE;\n",
              "      --fill-color: #1967D2;\n",
              "      --hover-bg-color: #E2EBFA;\n",
              "      --hover-fill-color: #174EA6;\n",
              "      --disabled-fill-color: #AAA;\n",
              "      --disabled-bg-color: #DDD;\n",
              "  }\n",
              "\n",
              "  [theme=dark] .colab-df-quickchart {\n",
              "      --bg-color: #3B4455;\n",
              "      --fill-color: #D2E3FC;\n",
              "      --hover-bg-color: #434B5C;\n",
              "      --hover-fill-color: #FFFFFF;\n",
              "      --disabled-bg-color: #3B4455;\n",
              "      --disabled-fill-color: #666;\n",
              "  }\n",
              "\n",
              "  .colab-df-quickchart {\n",
              "    background-color: var(--bg-color);\n",
              "    border: none;\n",
              "    border-radius: 50%;\n",
              "    cursor: pointer;\n",
              "    display: none;\n",
              "    fill: var(--fill-color);\n",
              "    height: 32px;\n",
              "    padding: 0;\n",
              "    width: 32px;\n",
              "  }\n",
              "\n",
              "  .colab-df-quickchart:hover {\n",
              "    background-color: var(--hover-bg-color);\n",
              "    box-shadow: 0 1px 2px rgba(60, 64, 67, 0.3), 0 1px 3px 1px rgba(60, 64, 67, 0.15);\n",
              "    fill: var(--button-hover-fill-color);\n",
              "  }\n",
              "\n",
              "  .colab-df-quickchart-complete:disabled,\n",
              "  .colab-df-quickchart-complete:disabled:hover {\n",
              "    background-color: var(--disabled-bg-color);\n",
              "    fill: var(--disabled-fill-color);\n",
              "    box-shadow: none;\n",
              "  }\n",
              "\n",
              "  .colab-df-spinner {\n",
              "    border: 2px solid var(--fill-color);\n",
              "    border-color: transparent;\n",
              "    border-bottom-color: var(--fill-color);\n",
              "    animation:\n",
              "      spin 1s steps(1) infinite;\n",
              "  }\n",
              "\n",
              "  @keyframes spin {\n",
              "    0% {\n",
              "      border-color: transparent;\n",
              "      border-bottom-color: var(--fill-color);\n",
              "      border-left-color: var(--fill-color);\n",
              "    }\n",
              "    20% {\n",
              "      border-color: transparent;\n",
              "      border-left-color: var(--fill-color);\n",
              "      border-top-color: var(--fill-color);\n",
              "    }\n",
              "    30% {\n",
              "      border-color: transparent;\n",
              "      border-left-color: var(--fill-color);\n",
              "      border-top-color: var(--fill-color);\n",
              "      border-right-color: var(--fill-color);\n",
              "    }\n",
              "    40% {\n",
              "      border-color: transparent;\n",
              "      border-right-color: var(--fill-color);\n",
              "      border-top-color: var(--fill-color);\n",
              "    }\n",
              "    60% {\n",
              "      border-color: transparent;\n",
              "      border-right-color: var(--fill-color);\n",
              "    }\n",
              "    80% {\n",
              "      border-color: transparent;\n",
              "      border-right-color: var(--fill-color);\n",
              "      border-bottom-color: var(--fill-color);\n",
              "    }\n",
              "    90% {\n",
              "      border-color: transparent;\n",
              "      border-bottom-color: var(--fill-color);\n",
              "    }\n",
              "  }\n",
              "</style>\n",
              "\n",
              "  <script>\n",
              "    async function quickchart(key) {\n",
              "      const quickchartButtonEl =\n",
              "        document.querySelector('#' + key + ' button');\n",
              "      quickchartButtonEl.disabled = true;  // To prevent multiple clicks.\n",
              "      quickchartButtonEl.classList.add('colab-df-spinner');\n",
              "      try {\n",
              "        const charts = await google.colab.kernel.invokeFunction(\n",
              "            'suggestCharts', [key], {});\n",
              "      } catch (error) {\n",
              "        console.error('Error during call to suggestCharts:', error);\n",
              "      }\n",
              "      quickchartButtonEl.classList.remove('colab-df-spinner');\n",
              "      quickchartButtonEl.classList.add('colab-df-quickchart-complete');\n",
              "    }\n",
              "    (() => {\n",
              "      let quickchartButtonEl =\n",
              "        document.querySelector('#df-68c7f764-ac68-4dc7-af9c-667a552083f2 button');\n",
              "      quickchartButtonEl.style.display =\n",
              "        google.colab.kernel.accessAllowed ? 'block' : 'none';\n",
              "    })();\n",
              "  </script>\n",
              "</div>\n",
              "\n",
              "    </div>\n",
              "  </div>\n"
            ],
            "application/vnd.google.colaboratory.intrinsic+json": {
              "type": "dataframe",
              "variable_name": "df",
              "summary": "{\n  \"name\": \"df\",\n  \"rows\": 500,\n  \"fields\": [\n    {\n      \"column\": \"survived\",\n      \"properties\": {\n        \"dtype\": \"number\",\n        \"std\": 0,\n        \"min\": 0,\n        \"max\": 1,\n        \"num_unique_values\": 2,\n        \"samples\": [\n          0,\n          1\n        ],\n        \"semantic_type\": \"\",\n        \"description\": \"\"\n      }\n    },\n    {\n      \"column\": \"name\",\n      \"properties\": {\n        \"dtype\": \"string\",\n        \"num_unique_values\": 499,\n        \"samples\": [\n          \"Jacobsohn, Mrs. Sidney Samuel (Amy Frances Christy)\",\n          \"Cleaver, Miss. Alice\"\n        ],\n        \"semantic_type\": \"\",\n        \"description\": \"\"\n      }\n    },\n    {\n      \"column\": \"sex\",\n      \"properties\": {\n        \"dtype\": \"category\",\n        \"num_unique_values\": 2,\n        \"samples\": [\n          \"male\",\n          \"female\"\n        ],\n        \"semantic_type\": \"\",\n        \"description\": \"\"\n      }\n    },\n    {\n      \"column\": \"age\",\n      \"properties\": {\n        \"dtype\": \"number\",\n        \"std\": 14.766454299204053,\n        \"min\": 0.6667,\n        \"max\": 80.0,\n        \"num_unique_values\": 73,\n        \"samples\": [\n          25.0,\n          62.0\n        ],\n        \"semantic_type\": \"\",\n        \"description\": \"\"\n      }\n    }\n  ]\n}"
            }
          },
          "metadata": {},
          "execution_count": 6
        }
      ],
      "source": [
        "# import data\n",
        "df = pd.read_excel('titanic.xlsx')\n",
        "df.head()"
      ]
    },
    {
      "cell_type": "code",
      "execution_count": 7,
      "id": "1ae2a6de",
      "metadata": {
        "id": "1ae2a6de",
        "colab": {
          "base_uri": "https://localhost:8080/"
        },
        "outputId": "c7db2f76-7ca6-4a40-b6dd-eae903ea5036"
      },
      "outputs": [
        {
          "output_type": "stream",
          "name": "stdout",
          "text": [
            "Head:\n",
            "   survived                                             name     sex      age\n",
            "0         1                    Allen, Miss. Elisabeth Walton  female  29.0000\n",
            "1         1                   Allison, Master. Hudson Trevor    male   0.9167\n",
            "2         0                     Allison, Miss. Helen Loraine  female   2.0000\n",
            "3         0             Allison, Mr. Hudson Joshua Creighton    male  30.0000\n",
            "4         0  Allison, Mrs. Hudson J C (Bessie Waldo Daniels)  female  25.0000\n",
            "\n",
            "Tail:\n",
            "     survived                                     name     sex   age\n",
            "495         1  Mallet, Mrs. Albert (Antoinette Magnin)  female  24.0\n",
            "496         0        Mangiavacchi, Mr. Serafino Emilio    male   NaN\n",
            "497         0               Matthews, Mr. William John    male  30.0\n",
            "498         0                Maybery, Mr. Frank Hubert    male  40.0\n",
            "499         0                McCrae, Mr. Arthur Gordon    male  32.0\n",
            "\n",
            "Sample:\n",
            "     survived                                               name     sex   age\n",
            "115         0                                  Fortune, Mr. Mark    male  64.0\n",
            "485         1                       Lemore, Mrs. (Amelia Milley)  female  34.0\n",
            "32          1                            Bonnell, Miss. Caroline  female  30.0\n",
            "62          0                        Chaffee, Mr. Herbert Fuller    male  46.0\n",
            "63          1  Chaffee, Mrs. Herbert Fuller (Carrie Constance...  female  47.0\n",
            "\n",
            "Info:\n",
            "<class 'pandas.core.frame.DataFrame'>\n",
            "RangeIndex: 500 entries, 0 to 499\n",
            "Data columns (total 4 columns):\n",
            " #   Column    Non-Null Count  Dtype  \n",
            "---  ------    --------------  -----  \n",
            " 0   survived  500 non-null    int64  \n",
            " 1   name      500 non-null    object \n",
            " 2   sex       500 non-null    object \n",
            " 3   age       451 non-null    float64\n",
            "dtypes: float64(1), int64(1), object(2)\n",
            "memory usage: 15.8+ KB\n"
          ]
        }
      ],
      "source": [
        "# Head, Tail, Sample, and Info Inspection\n",
        "print(\"Head:\")\n",
        "print(df.head())\n",
        "\n",
        "print(\"\\nTail:\")\n",
        "print(df.tail())\n",
        "\n",
        "print(\"\\nSample:\")\n",
        "print(df.sample(5))\n",
        "\n",
        "print(\"\\nInfo:\")\n",
        "df.info()"
      ]
    },
    {
      "cell_type": "markdown",
      "source": [
        "Observation Results\n",
        "\n",
        "The dataset contains 500 Titanic passengers.\n",
        "\n",
        "There are 4 columns: survived, name, gender, and age.\n",
        "\n",
        "The age column has missing values (only 451 out of 500 are filled)."
      ],
      "metadata": {
        "id": "XAgDBXtUJ6cs"
      },
      "id": "XAgDBXtUJ6cs"
    },
    {
      "cell_type": "code",
      "source": [
        "# grouping for categorical and numerical type data\n",
        "categoricals = ['name', 'sex']\n",
        "numericals = ['survived', 'age']"
      ],
      "metadata": {
        "id": "qTs5ZlS1LS5f"
      },
      "id": "qTs5ZlS1LS5f",
      "execution_count": 8,
      "outputs": []
    },
    {
      "cell_type": "code",
      "source": [
        "# To get a summary of the statistics\n",
        "print(\"\\nStatistical Summary:\")\n",
        "print(df.describe(include='all'))"
      ],
      "metadata": {
        "colab": {
          "base_uri": "https://localhost:8080/"
        },
        "id": "uX_t_Z_R8msU",
        "outputId": "bc87d524-816c-4eb2-b502-f345a8a70b14"
      },
      "id": "uX_t_Z_R8msU",
      "execution_count": 9,
      "outputs": [
        {
          "output_type": "stream",
          "name": "stdout",
          "text": [
            "\n",
            "Statistical Summary:\n",
            "          survived                            name   sex         age\n",
            "count   500.000000                             500   500  451.000000\n",
            "unique         NaN                             499     2         NaN\n",
            "top            NaN  Eustis, Miss. Elizabeth Mussey  male         NaN\n",
            "freq           NaN                               2   288         NaN\n",
            "mean      0.540000                             NaN   NaN   35.917775\n",
            "std       0.498897                             NaN   NaN   14.766454\n",
            "min       0.000000                             NaN   NaN    0.666700\n",
            "25%       0.000000                             NaN   NaN   24.000000\n",
            "50%       1.000000                             NaN   NaN   35.000000\n",
            "75%       1.000000                             NaN   NaN   47.000000\n",
            "max       1.000000                             NaN   NaN   80.000000\n"
          ]
        }
      ]
    },
    {
      "cell_type": "markdown",
      "source": [
        "Observation Results\n",
        "\n",
        "For numerics: mean, min, max, quartile\n",
        "\n",
        "For categorical: number of unique values, mode (most frequencies)\n",
        "\n",
        "From here we can see the distribution of values such as age, passenger class, survival status, etc."
      ],
      "metadata": {
        "id": "vjrUHdf-fJ91"
      },
      "id": "vjrUHdf-fJ91"
    },
    {
      "cell_type": "code",
      "source": [
        "# Check the amount of duplicate data\n",
        "duplikat = df.duplicated().sum()\n",
        "print(f\"\\nJumlah data duplikat: {duplikat}\")"
      ],
      "metadata": {
        "colab": {
          "base_uri": "https://localhost:8080/"
        },
        "id": "M9yzzpTj8u1H",
        "outputId": "de0ed22c-f2f0-46a2-ce95-46f550394fd3"
      },
      "id": "M9yzzpTj8u1H",
      "execution_count": 10,
      "outputs": [
        {
          "output_type": "stream",
          "name": "stdout",
          "text": [
            "\n",
            "Jumlah data duplikat: 1\n"
          ]
        }
      ]
    },
    {
      "cell_type": "code",
      "source": [
        "# Remove duplicates if any\n",
        "df = df.drop_duplicates()"
      ],
      "metadata": {
        "id": "tE8VGm3j9E5u"
      },
      "id": "tE8VGm3j9E5u",
      "execution_count": 11,
      "outputs": []
    },
    {
      "cell_type": "markdown",
      "source": [
        "Observation Results\n",
        "\n",
        "Check if there are exact (duplicate) rows.\n",
        "\n",
        "If found, it will be removed to ensure that the analysis is not biased."
      ],
      "metadata": {
        "id": "VS_WKkOGfbhI"
      },
      "id": "VS_WKkOGfbhI"
    },
    {
      "cell_type": "code",
      "source": [
        "# Check the Missing Value and Percentage\n",
        "missing = df.isnull().sum()\n",
        "missing_percent = (missing / len(df)) * 100\n",
        "\n",
        "missing_summary = pd.DataFrame({\n",
        "    'Missing Values': missing,\n",
        "    'Percentage (%)': missing_percent\n",
        "})\n",
        "print(\"\\nMissing Value Summary:\")\n",
        "print(missing_summary)"
      ],
      "metadata": {
        "colab": {
          "base_uri": "https://localhost:8080/"
        },
        "id": "-OWYBUFS8yTl",
        "outputId": "a49268f5-6eee-47c2-e608-0155cd9cb5e1"
      },
      "id": "-OWYBUFS8yTl",
      "execution_count": 12,
      "outputs": [
        {
          "output_type": "stream",
          "name": "stdout",
          "text": [
            "\n",
            "Missing Value Summary:\n",
            "          Missing Values  Percentage (%)\n",
            "survived               0        0.000000\n",
            "name                   0        0.000000\n",
            "sex                    0        0.000000\n",
            "age                   49        9.819639\n"
          ]
        }
      ]
    },
    {
      "cell_type": "markdown",
      "source": [
        "Observation Results\n",
        "\n",
        "Provides the number and percentage of missing values in each column.\n",
        "\n",
        "For example, the age column often has a lot of missing values (about 20%+ in the original Titanic dataset).\n",
        "\n",
        "This is important to determine whether it needs to be filled, discarded, or imputed."
      ],
      "metadata": {
        "id": "psgFOE0tflMi"
      },
      "id": "psgFOE0tflMi"
    },
    {
      "cell_type": "code",
      "source": [
        "# Example: Handling missing value in the 'age' column with average imputation\n",
        "if 'age' in df.columns:\n",
        "    mean_age = df['age'].mean()\n",
        "    df['age'].fillna(mean_age, inplace=True)\n",
        "    print(\"\\nMissing value pada kolom 'age' sudah diisi dengan rata-rata.\")"
      ],
      "metadata": {
        "colab": {
          "base_uri": "https://localhost:8080/"
        },
        "id": "-UaLwOZv83Bz",
        "outputId": "d1888180-7993-45a6-aef8-53f0ea164b19"
      },
      "id": "-UaLwOZv83Bz",
      "execution_count": 13,
      "outputs": [
        {
          "output_type": "stream",
          "name": "stdout",
          "text": [
            "\n",
            "Missing value pada kolom 'age' sudah diisi dengan rata-rata.\n"
          ]
        },
        {
          "output_type": "stream",
          "name": "stderr",
          "text": [
            "<ipython-input-13-7c361f401e15>:4: FutureWarning: A value is trying to be set on a copy of a DataFrame or Series through chained assignment using an inplace method.\n",
            "The behavior will change in pandas 3.0. This inplace method will never work because the intermediate object on which we are setting values always behaves as a copy.\n",
            "\n",
            "For example, when doing 'df[col].method(value, inplace=True)', try using 'df.method({col: value}, inplace=True)' or df[col] = df[col].method(value) instead, to perform the operation inplace on the original object.\n",
            "\n",
            "\n",
            "  df['age'].fillna(mean_age, inplace=True)\n"
          ]
        }
      ]
    },
    {
      "cell_type": "markdown",
      "source": [
        "Observation Results\n",
        "\n",
        "Fill in the blank value in the age column with the average age.\n",
        "\n",
        "This is a simple but often used method so that we can still do analysis without deleting data."
      ],
      "metadata": {
        "id": "NWBf1FAbf0Uo"
      },
      "id": "NWBf1FAbf0Uo"
    },
    {
      "cell_type": "code",
      "source": [
        "plt.figure(figsize=(10, 6))\n",
        "sns.heatmap(df.corr(numeric_only=True), annot=True, cmap='coolwarm', fmt='.2f')\n",
        "plt.title(\"Korelasi Antar Variabel Numerik\")\n",
        "plt.show()"
      ],
      "metadata": {
        "colab": {
          "base_uri": "https://localhost:8080/",
          "height": 545
        },
        "id": "ZZh73kMJgrP3",
        "outputId": "981fb07a-6b4a-4274-bc0d-53e0671e12dd"
      },
      "id": "ZZh73kMJgrP3",
      "execution_count": 14,
      "outputs": [
        {
          "output_type": "display_data",
          "data": {
            "text/plain": [
              "<Figure size 1000x600 with 2 Axes>"
            ],
            "image/png": "[encoded data removed]"
          },
          "metadata": {}
        }
      ]
    },
    {
      "cell_type": "markdown",
      "source": [
        "Observation Results\n",
        "\n",
        "There was a weak negative correlation between 'age' and 'survived' of -0.15.\n",
        "This indicates a slight influence of age on the likelihood of survival, although it is not significant."
      ],
      "metadata": {
        "id": "lVhJL_FhhdIi"
      },
      "id": "lVhJL_FhhdIi"
    },
    {
      "cell_type": "code",
      "source": [
        "sns.countplot(data=df, x='sex', hue='survived')\n",
        "plt.title(\"Survival Rate berdasarkan Jenis Kelamin\")\n",
        "plt.xlabel(\"Jenis Kelamin\")\n",
        "plt.ylabel(\"Jumlah\")\n",
        "plt.legend(title=\"Survived\")\n",
        "plt.show()"
      ],
      "metadata": {
        "colab": {
          "base_uri": "https://localhost:8080/",
          "height": 472
        },
        "id": "4_5uT1COhhjj",
        "outputId": "64c58b39-332e-4526-8cda-871693de867b"
      },
      "id": "4_5uT1COhhjj",
      "execution_count": 15,
      "outputs": [
        {
          "output_type": "display_data",
          "data": {
            "text/plain": [
              "<Figure size 640x480 with 1 Axes>"
            ],
            "image/png": "[encoded data removed]"
          },
          "metadata": {}
        }
      ]
    },
    {
      "cell_type": "markdown",
      "source": [
        "Observation Results\n",
        "\n",
        "1. Women have a much higher survival rate than men. Most of the females were on the survivord bar = 1, meaning they survived more. In contrast, most males were on the survivord = 0 bar, which means they were more likely to not survive.\n",
        "\n",
        "2. This pattern shows the influence of social policies during evacuation, such as \"women and children first\". In the tragedy of the Titanic, there was indeed a tendency to save women first. This is clearly reflected in the graph."
      ],
      "metadata": {
        "id": "E-3ASvbwh3Cb"
      },
      "id": "E-3ASvbwh3Cb"
    },
    {
      "cell_type": "code",
      "source": [
        "sns.histplot(data=df, x='age', kde=True)\n",
        "plt.title(\"Distribusi Usia Penumpang\")\n",
        "plt.xlabel(\"Usia\")\n",
        "plt.ylabel(\"Jumlah\")\n",
        "plt.show()"
      ],
      "metadata": {
        "colab": {
          "base_uri": "https://localhost:8080/",
          "height": 472
        },
        "id": "b7pwJtlgiJyC",
        "outputId": "7f9a3d64-e4c7-45c3-ab83-51de91c72965"
      },
      "id": "b7pwJtlgiJyC",
      "execution_count": 16,
      "outputs": [
        {
          "output_type": "display_data",
          "data": {
            "text/plain": [
              "<Figure size 640x480 with 1 Axes>"
            ],
            "image/png": "[encoded data removed]"
          },
          "metadata": {}
        }
      ]
    },
    {
      "cell_type": "markdown",
      "source": [
        "Observation Results\n",
        "\n",
        "1. Most of the passengers are in the age range of young to early adulthood (about 20–40 years). The peak of the histogram is seen at about 20–30 years of age.This shows that the most passengers are in the productive age group.\n",
        "\n",
        "2. The age distribution is not entirely symmetrical. The histogram looks slightly right-skewed, meaning there are fewer elderly passengers (> 60 years old). However, it is still seen quite a lot of children and adolescents, although the number is much smaller than the group of young adults."
      ],
      "metadata": {
        "id": "3dUJE0MLiXG5"
      },
      "id": "3dUJE0MLiXG5"
    }
  ],
  "metadata": {
    "kernelspec": {
      "display_name": "Python 3 (ipykernel)",
      "language": "python",
      "name": "python3"
    },
    "language_info": {
      "codemirror_mode": {
        "name": "ipython",
        "version": 3
      },
      "file_extension": ".py",
      "mimetype": "text/x-python",
      "name": "python",
      "nbconvert_exporter": "python",
      "pygments_lexer": "ipython3",
      "version": "3.11.4"
    },
    "colab": {
      "provenance": []
    }
  },
  "nbformat": 4,
  "nbformat_minor": 5
}