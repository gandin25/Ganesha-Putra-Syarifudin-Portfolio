{
  "cells": [
    {
      "cell_type": "markdown",
      "id": "39bf7b14",
      "metadata": {
        "id": "39bf7b14"
      },
      "source": [
        "##Create a program that:\n",
        "Asking for input from users:\n",
        "\n",
        "1. Student name\n",
        "\n",
        "2. NIM students\n",
        "\n",
        "3. Test scores (in numbers, 0–100)\n",
        "\n",
        "4. Check and display the data type of each input.\n",
        "\n",
        "5. Use if-elif-else to define a value category, with the following criteria:\n",
        "   \n",
        "```\n",
        "Nilai | Kategori\n",
        "85 - 100 | A (Sangat Baik)\n",
        "75 - 84 | B (Baik)\n",
        "60 - 74 | C (Cukup)\n",
        "40 - 59 | D (Kurang)\n",
        "< 40 | E (Sangat Kurang)\n",
        "```\n",
        "\n",
        "```\n",
        "==== Ekspektasi Output Jawaban : =====\n",
        "Masukkan nama mahasiswa: Sarah\n",
        "Masukkan NIM: 12345678\n",
        "Masukkan nilai ujian (0-100): 81\n",
        "\n",
        "Nama: Sarah (type: <class 'str'>)\n",
        "NIM: 12345678 (type: <class 'str'>)\n",
        "Nilai: 81 (type: <class 'int'>)\n",
        "\n",
        "Hasil Evaluasi:\n",
        "Mahasiswa: Sarah (NIM: 12345678)\n",
        "Nilai Ujian: 81\n",
        "Kategori Nilai: B (Baik)\n",
        "```"
      ]
    },
    {
      "cell_type": "code",
      "source": [
        "# Data Mahasiswa\n",
        "nama1 = \"ganesha\"\n",
        "nim1 = \"12010123120033\"\n",
        "nilai1 = 90\n",
        "\n",
        "nama2 = \"annisa\"\n",
        "nim2 = \"12010123120034\"\n",
        "nilai2 = 88\n",
        "\n",
        "nama3 = \"faris\"\n",
        "nim3 = \"12010123120035\"\n",
        "nilai3 = 75\n",
        "\n",
        "nama4 = \"farhan\"\n",
        "nim4 = \"12010123120036\"\n",
        "nilai4 = 60\n",
        "\n",
        "nama5 = \"abdil\"\n",
        "nim5 = \"12010123120037\"\n",
        "nilai5 = 30\n",
        "\n",
        "# Proses dan Output\n",
        "for nama, nim, nilai in [(nama1, nim1, nilai1), (nama2, nim2, nilai2), (nama3, nim3, nilai3), (nama4, nim4, nilai4), (nama5, nim5, nilai5)]:\n",
        "    print(f\"\\nMasukkan nama mahasiswa: {nama}\")\n",
        "    print(f\"Masukkan NIM: {nim}\")\n",
        "    print(f\"Masukkan nilai ujian (0-100): {nilai}\")"
      ],
      "metadata": {
        "colab": {
          "base_uri": "https://localhost:8080/"
        },
        "id": "8yiV1IfsfruF",
        "outputId": "2ffd3527-a6e4-45b7-f6db-8b14e7c1b13f"
      },
      "id": "8yiV1IfsfruF",
      "execution_count": null,
      "outputs": [
        {
          "output_type": "stream",
          "name": "stdout",
          "text": [
            "\n",
            "Masukkan nama mahasiswa: ganesha\n",
            "Masukkan NIM: 12010123120033\n",
            "Masukkan nilai ujian (0-100): 90\n",
            "\n",
            "Masukkan nama mahasiswa: annisa\n",
            "Masukkan NIM: 12010123120034\n",
            "Masukkan nilai ujian (0-100): 88\n",
            "\n",
            "Masukkan nama mahasiswa: faris\n",
            "Masukkan NIM: 12010123120035\n",
            "Masukkan nilai ujian (0-100): 75\n",
            "\n",
            "Masukkan nama mahasiswa: farhan\n",
            "Masukkan NIM: 12010123120036\n",
            "Masukkan nilai ujian (0-100): 60\n",
            "\n",
            "Masukkan nama mahasiswa: abdil\n",
            "Masukkan NIM: 12010123120037\n",
            "Masukkan nilai ujian (0-100): 30\n"
          ]
        }
      ]
    },
    {
      "cell_type": "code",
      "execution_count": null,
      "id": "e2ab644c",
      "metadata": {
        "id": "e2ab644c",
        "colab": {
          "base_uri": "https://localhost:8080/"
        },
        "outputId": "4c9f42fb-d582-4f9e-aada-4079001bf199"
      },
      "outputs": [
        {
          "output_type": "stream",
          "name": "stdout",
          "text": [
            "\n",
            "Nama: ganesha (type: <class 'str'>)\n",
            "NIM: 12010123120033 (type: <class 'str'>)\n",
            "Nilai: 90 (type: <class 'int'>)\n",
            "\n",
            "Nama: annisa (type: <class 'str'>)\n",
            "NIM: 12010123120034 (type: <class 'str'>)\n",
            "Nilai: 88 (type: <class 'int'>)\n",
            "\n",
            "Nama: faris (type: <class 'str'>)\n",
            "NIM: 12010123120035 (type: <class 'str'>)\n",
            "Nilai: 75 (type: <class 'int'>)\n",
            "\n",
            "Nama: farhan (type: <class 'str'>)\n",
            "NIM: 12010123120036 (type: <class 'str'>)\n",
            "Nilai: 60 (type: <class 'int'>)\n",
            "\n",
            "Nama: abdil (type: <class 'str'>)\n",
            "NIM: 12010123120037 (type: <class 'str'>)\n",
            "Nilai: 30 (type: <class 'int'>)\n"
          ]
        }
      ],
      "source": [
        "# Data mahasiswa\n",
        "nama1 = \"ganesha\"\n",
        "nim1 = \"12010123120033\"\n",
        "nilai1 = 90\n",
        "\n",
        "nama2 = \"annisa\"\n",
        "nim2 = \"12010123120034\"\n",
        "nilai2 = 88\n",
        "\n",
        "nama3 = \"faris\"\n",
        "nim3 = \"12010123120035\"\n",
        "nilai3 = 75\n",
        "\n",
        "nama4 = \"farhan\"\n",
        "nim4 = \"12010123120036\"\n",
        "nilai4 = 60\n",
        "\n",
        "nama5 = \"abdil\"\n",
        "nim5 = \"12010123120037\"\n",
        "nilai5 = 30\n",
        "\n",
        "# Proses dan output\n",
        "for nama, nim, nilai in [(nama1, nim1, nilai1), (nama2, nim2, nilai2), (nama3, nim3, nilai3), (nama4, nim4, nilai4), (nama5, nim5, nilai5)]:\n",
        "    print(f\"\\nNama: {nama} (type: {type(nama)})\")\n",
        "    print(f\"NIM: {nim} (type: {type(nim)})\")\n",
        "    print(f\"Nilai: {nilai} (type: {type(nilai)})\")"
      ]
    },
    {
      "cell_type": "code",
      "source": [
        "# Data mahasiswa\n",
        "nama1 = \"ganesha\"\n",
        "nim1 = \"12010123120033\"\n",
        "nilai1 = 90\n",
        "\n",
        "nama2 = \"annisa\"\n",
        "nim2 = \"12010123120034\"\n",
        "nilai2 = 88\n",
        "\n",
        "nama3 = \"faris\"\n",
        "nim3 = \"12010123120035\"\n",
        "nilai3 = 75\n",
        "\n",
        "nama4 = \"farhan\"\n",
        "nim4 = \"12010123120036\"\n",
        "nilai4 = 60\n",
        "\n",
        "nama5 = \"abdil\"\n",
        "nim5 = \"12010123120037\"\n",
        "nilai5 = 30\n",
        "\n",
        "# Cek Kategori Nilai\n",
        "def cek_kategori(nilai):\n",
        "    if 85 <= nilai <= 100:\n",
        "        return \"A (Sangat Baik)\"\n",
        "    elif 75 <= nilai <= 84:\n",
        "        return \"B (Baik)\"\n",
        "    elif 60 <= nilai <= 74:\n",
        "        return \"C (Cukup)\"\n",
        "    elif 40 <= nilai <= 59:\n",
        "        return \"D (Kurang)\"\n",
        "    else:\n",
        "        return \"E (Sangat Kurang)\"\n",
        "\n",
        "# Proses dan output\n",
        "for nama, nim, nilai in [(nama1, nim1, nilai1), (nama2, nim2, nilai2), (nama3, nim3, nilai3), (nama4, nim4, nilai4), (nama5, nim5, nilai5)]:\n",
        "    print(f\"\\nNama: {nama}\")\n",
        "    print(f\"NIM: {nim}\")\n",
        "    print(f\"Nilai: {nilai}\")\n",
        "    print(f\"Kategori Nilai: {cek_kategori(nilai)}\")"
      ],
      "metadata": {
        "colab": {
          "base_uri": "https://localhost:8080/"
        },
        "id": "NHBAIZTnluXN",
        "outputId": "409a831c-a0e1-4cd3-be07-7376b3889bca"
      },
      "id": "NHBAIZTnluXN",
      "execution_count": null,
      "outputs": [
        {
          "output_type": "stream",
          "name": "stdout",
          "text": [
            "\n",
            "Nama: ganesha\n",
            "NIM: 12010123120033\n",
            "Nilai: 90\n",
            "Kategori Nilai: A (Sangat Baik)\n",
            "\n",
            "Nama: annisa\n",
            "NIM: 12010123120034\n",
            "Nilai: 88\n",
            "Kategori Nilai: A (Sangat Baik)\n",
            "\n",
            "Nama: faris\n",
            "NIM: 12010123120035\n",
            "Nilai: 75\n",
            "Kategori Nilai: B (Baik)\n",
            "\n",
            "Nama: farhan\n",
            "NIM: 12010123120036\n",
            "Nilai: 60\n",
            "Kategori Nilai: C (Cukup)\n",
            "\n",
            "Nama: abdil\n",
            "NIM: 12010123120037\n",
            "Nilai: 30\n",
            "Kategori Nilai: E (Sangat Kurang)\n"
          ]
        }
      ]
    }
  ],
  "metadata": {
    "kernelspec": {
      "display_name": "Python 3 (ipykernel)",
      "language": "python",
      "name": "python3"
    },
    "language_info": {
      "codemirror_mode": {
        "name": "ipython",
        "version": 3
      },
      "file_extension": ".py",
      "mimetype": "text/x-python",
      "name": "python",
      "nbconvert_exporter": "python",
      "pygments_lexer": "ipython3",
      "version": "3.11.4"
    },
    "colab": {
      "provenance": []
    }
  },
  "nbformat": 4,
  "nbformat_minor": 5
}